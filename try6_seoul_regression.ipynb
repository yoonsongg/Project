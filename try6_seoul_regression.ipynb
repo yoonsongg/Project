{
  "nbformat": 4,
  "nbformat_minor": 0,
  "metadata": {
    "colab": {
      "name": "try6_seoul_regression.ipynb",
      "provenance": [],
      "mount_file_id": "1Jiv6cs_QFXJGFLXth0PyiSfYYN9qvIgo",
      "authorship_tag": "ABX9TyNUT8wFFVaSQOdVbm0yBKcX",
      "include_colab_link": true
    },
    "kernelspec": {
      "name": "python3",
      "display_name": "Python 3"
    },
    "language_info": {
      "name": "python"
    }
  },
  "cells": [
    {
      "cell_type": "markdown",
      "metadata": {
        "id": "view-in-github",
        "colab_type": "text"
      },
      "source": [
        "<a href=\"https://colab.research.google.com/github/yoonsongg/Project/blob/main/try6_seoul_regression.ipynb\" target=\"_parent\"><img src=\"https://colab.research.google.com/assets/colab-badge.svg\" alt=\"Open In Colab\"/></a>"
      ]
    },
    {
      "cell_type": "markdown",
      "metadata": {
        "id": "wzZXWd3RUCUo"
      },
      "source": [
        "데이터출처 : https://data.si.re.kr/node/65072"
      ]
    },
    {
      "cell_type": "code",
      "metadata": {
        "id": "VFINYLzQQtwg"
      },
      "source": [
        "url = '/content/drive/MyDrive/AI_Bootcamp/Section2_Project_data/try6/서울서베이 도시정책지표조사 정보(2020년)/6. 2020 서울서베이 가구원(원시자료와 부호화 지침서).xlsx'"
      ],
      "execution_count": null,
      "outputs": []
    },
    {
      "cell_type": "code",
      "metadata": {
        "id": "oNaDeySJRJo7"
      },
      "source": [
        "import pandas as pd\n",
        "import numpy as np"
      ],
      "execution_count": null,
      "outputs": []
    },
    {
      "cell_type": "code",
      "metadata": {
        "id": "ZDtrbURrRMie"
      },
      "source": [
        "df = pd.read_excel(url, sheet_name = 0)\n",
        "#df_codebook = pd.read_excel(url, sheet_name = 1)"
      ],
      "execution_count": null,
      "outputs": []
    },
    {
      "cell_type": "code",
      "metadata": {
        "id": "hg5LOqBaRRox"
      },
      "source": [
        "#duplicate df\n",
        "df_visual = df"
      ],
      "execution_count": null,
      "outputs": []
    },
    {
      "cell_type": "code",
      "metadata": {
        "colab": {
          "base_uri": "https://localhost:8080/",
          "height": 348
        },
        "id": "0WA8Bg2jbsmZ",
        "outputId": "bf239c83-d317-4d03-ee01-a0b3aa9fe652"
      },
      "source": [
        "df.shape\n",
        "df.head(10)\n",
        "df.describe()"
      ],
      "execution_count": null,
      "outputs": [
        {
          "output_type": "execute_result",
          "data": {
            "text/html": [
              "<div>\n",
              "<style scoped>\n",
              "    .dataframe tbody tr th:only-of-type {\n",
              "        vertical-align: middle;\n",
              "    }\n",
              "\n",
              "    .dataframe tbody tr th {\n",
              "        vertical-align: top;\n",
              "    }\n",
              "\n",
              "    .dataframe thead th {\n",
              "        text-align: right;\n",
              "    }\n",
              "</style>\n",
              "<table border=\"1\" class=\"dataframe\">\n",
              "  <thead>\n",
              "    <tr style=\"text-align: right;\">\n",
              "      <th></th>\n",
              "      <th>date</th>\n",
              "      <th>ID</th>\n",
              "      <th>GU</th>\n",
              "      <th>NUM_1</th>\n",
              "      <th>FAM15</th>\n",
              "      <th>HOUSE</th>\n",
              "      <th>LIFE</th>\n",
              "      <th>SQ1_1</th>\n",
              "      <th>SQ1_2</th>\n",
              "      <th>SQ1_3</th>\n",
              "      <th>SQ1_4</th>\n",
              "      <th>SQ1_5</th>\n",
              "      <th>SQ1_6</th>\n",
              "      <th>SQ1_7</th>\n",
              "      <th>SQ1_8A</th>\n",
              "      <th>AQ1A1</th>\n",
              "      <th>AQ1A2</th>\n",
              "      <th>AQ1A3</th>\n",
              "      <th>AQ1A4</th>\n",
              "      <th>AQ2A1</th>\n",
              "      <th>AQ2A2</th>\n",
              "      <th>AQ2A3</th>\n",
              "      <th>AQ2A4</th>\n",
              "      <th>AQ2A5</th>\n",
              "      <th>AQ3</th>\n",
              "      <th>AQ4</th>\n",
              "      <th>AQ5A1</th>\n",
              "      <th>AQ5A2</th>\n",
              "      <th>AQ5A3</th>\n",
              "      <th>AQ5A4</th>\n",
              "      <th>AQ6A1</th>\n",
              "      <th>AQ6A2</th>\n",
              "      <th>AQ6A3</th>\n",
              "      <th>AQ6B1</th>\n",
              "      <th>AQ6B2</th>\n",
              "      <th>AQ6B3</th>\n",
              "      <th>AQ7A1</th>\n",
              "      <th>AQ7A2</th>\n",
              "      <th>AQ7A3</th>\n",
              "      <th>AQ7A4</th>\n",
              "      <th>...</th>\n",
              "      <th>AQ28B4</th>\n",
              "      <th>AQ28B5</th>\n",
              "      <th>AQ28C1</th>\n",
              "      <th>AQ28C2</th>\n",
              "      <th>AQ28C3</th>\n",
              "      <th>AQ28C4</th>\n",
              "      <th>AQ28C5</th>\n",
              "      <th>AQ29A1</th>\n",
              "      <th>AQ29A2</th>\n",
              "      <th>AQ29A3</th>\n",
              "      <th>AQ29A4</th>\n",
              "      <th>AQ30A1</th>\n",
              "      <th>AQ30A2</th>\n",
              "      <th>AQ30A3</th>\n",
              "      <th>AQ30A4</th>\n",
              "      <th>AQ30A5</th>\n",
              "      <th>AQ31A1</th>\n",
              "      <th>AQ31A2</th>\n",
              "      <th>AQ31A3</th>\n",
              "      <th>AQ31A4</th>\n",
              "      <th>AQ31A5</th>\n",
              "      <th>APQ1A5</th>\n",
              "      <th>ADQ1</th>\n",
              "      <th>ADQ1A</th>\n",
              "      <th>ADQ2A_1</th>\n",
              "      <th>ADQ2A_2</th>\n",
              "      <th>ADQ2B_1</th>\n",
              "      <th>ADQ2B_2</th>\n",
              "      <th>ADQ3</th>\n",
              "      <th>ADQ3_1</th>\n",
              "      <th>ADQ3_1_1A</th>\n",
              "      <th>ADQ3_1_1B</th>\n",
              "      <th>ADQ3_2A1</th>\n",
              "      <th>ADQ3_2A2</th>\n",
              "      <th>ADQ3_3A1</th>\n",
              "      <th>ADQ3_3A2</th>\n",
              "      <th>ADQ3_4</th>\n",
              "      <th>ADQ3_5</th>\n",
              "      <th>wtb1</th>\n",
              "      <th>wtb2</th>\n",
              "    </tr>\n",
              "  </thead>\n",
              "  <tbody>\n",
              "    <tr>\n",
              "      <th>count</th>\n",
              "      <td>40085.0</td>\n",
              "      <td>40085.000000</td>\n",
              "      <td>40085.000000</td>\n",
              "      <td>40085.000000</td>\n",
              "      <td>40085.000000</td>\n",
              "      <td>40085.000000</td>\n",
              "      <td>40085.000000</td>\n",
              "      <td>40085.000000</td>\n",
              "      <td>40085.000000</td>\n",
              "      <td>40085.000000</td>\n",
              "      <td>40085.000000</td>\n",
              "      <td>40085.000000</td>\n",
              "      <td>40085.000000</td>\n",
              "      <td>40085.000000</td>\n",
              "      <td>40085.0</td>\n",
              "      <td>40085.000000</td>\n",
              "      <td>40085.000000</td>\n",
              "      <td>40085.000000</td>\n",
              "      <td>40085.000000</td>\n",
              "      <td>40085.000000</td>\n",
              "      <td>40085.000000</td>\n",
              "      <td>40085.000000</td>\n",
              "      <td>40085.000000</td>\n",
              "      <td>40085.000000</td>\n",
              "      <td>40085.000000</td>\n",
              "      <td>40085.000000</td>\n",
              "      <td>40085.00000</td>\n",
              "      <td>40085.000000</td>\n",
              "      <td>40085.000000</td>\n",
              "      <td>40085.000000</td>\n",
              "      <td>40085.000000</td>\n",
              "      <td>40085.000000</td>\n",
              "      <td>40085.000000</td>\n",
              "      <td>24993.000000</td>\n",
              "      <td>21538.000000</td>\n",
              "      <td>18019.000000</td>\n",
              "      <td>40085.000000</td>\n",
              "      <td>40085.000000</td>\n",
              "      <td>40085.000000</td>\n",
              "      <td>40085.000000</td>\n",
              "      <td>...</td>\n",
              "      <td>40085.000000</td>\n",
              "      <td>40085.000000</td>\n",
              "      <td>40085.000000</td>\n",
              "      <td>40085.000000</td>\n",
              "      <td>40085.000000</td>\n",
              "      <td>40085.000000</td>\n",
              "      <td>40085.000000</td>\n",
              "      <td>40085.000000</td>\n",
              "      <td>40085.000000</td>\n",
              "      <td>40085.000000</td>\n",
              "      <td>40085.000000</td>\n",
              "      <td>39458.000000</td>\n",
              "      <td>39489.000000</td>\n",
              "      <td>31798.000000</td>\n",
              "      <td>38425.000000</td>\n",
              "      <td>39538.000000</td>\n",
              "      <td>40085.000000</td>\n",
              "      <td>40085.000000</td>\n",
              "      <td>40085.000000</td>\n",
              "      <td>40085.000000</td>\n",
              "      <td>40085.000000</td>\n",
              "      <td>40085.000000</td>\n",
              "      <td>40085.000000</td>\n",
              "      <td>40033.000000</td>\n",
              "      <td>40085.000000</td>\n",
              "      <td>40085.000000</td>\n",
              "      <td>40085.000000</td>\n",
              "      <td>40085.000000</td>\n",
              "      <td>40085.000000</td>\n",
              "      <td>27489.000000</td>\n",
              "      <td>22783.000000</td>\n",
              "      <td>22783.000000</td>\n",
              "      <td>27489.000000</td>\n",
              "      <td>27489.000000</td>\n",
              "      <td>27489.000000</td>\n",
              "      <td>27489.000000</td>\n",
              "      <td>27489.000000</td>\n",
              "      <td>27489.000000</td>\n",
              "      <td>40085.000000</td>\n",
              "      <td>40085.000000</td>\n",
              "    </tr>\n",
              "    <tr>\n",
              "      <th>mean</th>\n",
              "      <td>20210326.0</td>\n",
              "      <td>37393.277386</td>\n",
              "      <td>438.247599</td>\n",
              "      <td>2.950879</td>\n",
              "      <td>2.552077</td>\n",
              "      <td>2.223151</td>\n",
              "      <td>1.494424</td>\n",
              "      <td>1.756717</td>\n",
              "      <td>1.519795</td>\n",
              "      <td>1974.065062</td>\n",
              "      <td>1.497842</td>\n",
              "      <td>4.033429</td>\n",
              "      <td>1.004391</td>\n",
              "      <td>1.985531</td>\n",
              "      <td>1.0</td>\n",
              "      <td>3.660596</td>\n",
              "      <td>3.333317</td>\n",
              "      <td>3.369989</td>\n",
              "      <td>3.735288</td>\n",
              "      <td>3.814120</td>\n",
              "      <td>4.063690</td>\n",
              "      <td>3.653935</td>\n",
              "      <td>3.807783</td>\n",
              "      <td>3.733691</td>\n",
              "      <td>3.744742</td>\n",
              "      <td>3.397306</td>\n",
              "      <td>3.62350</td>\n",
              "      <td>3.551279</td>\n",
              "      <td>3.523962</td>\n",
              "      <td>3.149632</td>\n",
              "      <td>2.570463</td>\n",
              "      <td>2.469178</td>\n",
              "      <td>2.183161</td>\n",
              "      <td>3.124675</td>\n",
              "      <td>4.143560</td>\n",
              "      <td>4.961097</td>\n",
              "      <td>3.453611</td>\n",
              "      <td>3.372658</td>\n",
              "      <td>4.157391</td>\n",
              "      <td>3.448896</td>\n",
              "      <td>...</td>\n",
              "      <td>1.577398</td>\n",
              "      <td>1.641512</td>\n",
              "      <td>1.667731</td>\n",
              "      <td>1.824623</td>\n",
              "      <td>1.780067</td>\n",
              "      <td>1.889535</td>\n",
              "      <td>1.936186</td>\n",
              "      <td>3.480978</td>\n",
              "      <td>3.149632</td>\n",
              "      <td>3.049420</td>\n",
              "      <td>3.454584</td>\n",
              "      <td>3.094658</td>\n",
              "      <td>2.836030</td>\n",
              "      <td>2.618089</td>\n",
              "      <td>2.602394</td>\n",
              "      <td>2.592772</td>\n",
              "      <td>7.041462</td>\n",
              "      <td>6.143146</td>\n",
              "      <td>6.678982</td>\n",
              "      <td>6.766546</td>\n",
              "      <td>6.491805</td>\n",
              "      <td>6.453910</td>\n",
              "      <td>5.194337</td>\n",
              "      <td>1.135139</td>\n",
              "      <td>31.106124</td>\n",
              "      <td>0.002594</td>\n",
              "      <td>7.931970</td>\n",
              "      <td>0.007534</td>\n",
              "      <td>5.991194</td>\n",
              "      <td>1.909091</td>\n",
              "      <td>1.210244</td>\n",
              "      <td>1.495238</td>\n",
              "      <td>44.762960</td>\n",
              "      <td>5.237986</td>\n",
              "      <td>10.575176</td>\n",
              "      <td>0.016152</td>\n",
              "      <td>3.385245</td>\n",
              "      <td>7.249081</td>\n",
              "      <td>202.415118</td>\n",
              "      <td>1.000000</td>\n",
              "    </tr>\n",
              "    <tr>\n",
              "      <th>std</th>\n",
              "      <td>0.0</td>\n",
              "      <td>30042.838627</td>\n",
              "      <td>182.625700</td>\n",
              "      <td>1.156006</td>\n",
              "      <td>1.018717</td>\n",
              "      <td>0.970333</td>\n",
              "      <td>0.719072</td>\n",
              "      <td>1.052360</td>\n",
              "      <td>0.499614</td>\n",
              "      <td>15.232190</td>\n",
              "      <td>0.958227</td>\n",
              "      <td>2.208165</td>\n",
              "      <td>0.066117</td>\n",
              "      <td>0.119416</td>\n",
              "      <td>0.0</td>\n",
              "      <td>0.978608</td>\n",
              "      <td>0.968437</td>\n",
              "      <td>0.862196</td>\n",
              "      <td>0.903708</td>\n",
              "      <td>0.873012</td>\n",
              "      <td>0.858349</td>\n",
              "      <td>0.974162</td>\n",
              "      <td>0.968802</td>\n",
              "      <td>0.915257</td>\n",
              "      <td>0.933956</td>\n",
              "      <td>0.915725</td>\n",
              "      <td>0.90591</td>\n",
              "      <td>0.902793</td>\n",
              "      <td>0.828592</td>\n",
              "      <td>0.880984</td>\n",
              "      <td>0.592552</td>\n",
              "      <td>0.620742</td>\n",
              "      <td>0.826044</td>\n",
              "      <td>1.604171</td>\n",
              "      <td>1.200751</td>\n",
              "      <td>1.292149</td>\n",
              "      <td>0.911471</td>\n",
              "      <td>1.024050</td>\n",
              "      <td>0.873241</td>\n",
              "      <td>0.900728</td>\n",
              "      <td>...</td>\n",
              "      <td>0.493979</td>\n",
              "      <td>0.479562</td>\n",
              "      <td>0.471033</td>\n",
              "      <td>0.380294</td>\n",
              "      <td>0.414206</td>\n",
              "      <td>0.313473</td>\n",
              "      <td>0.244425</td>\n",
              "      <td>0.922838</td>\n",
              "      <td>0.970096</td>\n",
              "      <td>0.969615</td>\n",
              "      <td>0.939367</td>\n",
              "      <td>0.837834</td>\n",
              "      <td>0.811737</td>\n",
              "      <td>0.882578</td>\n",
              "      <td>0.870452</td>\n",
              "      <td>0.910856</td>\n",
              "      <td>1.949972</td>\n",
              "      <td>1.953510</td>\n",
              "      <td>1.693357</td>\n",
              "      <td>1.685354</td>\n",
              "      <td>1.760980</td>\n",
              "      <td>1.815291</td>\n",
              "      <td>1.170843</td>\n",
              "      <td>0.513431</td>\n",
              "      <td>15.475293</td>\n",
              "      <td>0.140007</td>\n",
              "      <td>7.166609</td>\n",
              "      <td>0.246810</td>\n",
              "      <td>3.732090</td>\n",
              "      <td>1.709321</td>\n",
              "      <td>0.637369</td>\n",
              "      <td>1.320164</td>\n",
              "      <td>15.179432</td>\n",
              "      <td>21.075588</td>\n",
              "      <td>7.961214</td>\n",
              "      <td>0.365734</td>\n",
              "      <td>0.783224</td>\n",
              "      <td>3.545673</td>\n",
              "      <td>211.084633</td>\n",
              "      <td>1.042830</td>\n",
              "    </tr>\n",
              "    <tr>\n",
              "      <th>min</th>\n",
              "      <td>20210326.0</td>\n",
              "      <td>2.000000</td>\n",
              "      <td>110.000000</td>\n",
              "      <td>1.000000</td>\n",
              "      <td>1.000000</td>\n",
              "      <td>1.000000</td>\n",
              "      <td>1.000000</td>\n",
              "      <td>1.000000</td>\n",
              "      <td>1.000000</td>\n",
              "      <td>1920.000000</td>\n",
              "      <td>1.000000</td>\n",
              "      <td>1.000000</td>\n",
              "      <td>1.000000</td>\n",
              "      <td>1.000000</td>\n",
              "      <td>1.0</td>\n",
              "      <td>1.000000</td>\n",
              "      <td>1.000000</td>\n",
              "      <td>1.000000</td>\n",
              "      <td>1.000000</td>\n",
              "      <td>1.000000</td>\n",
              "      <td>1.000000</td>\n",
              "      <td>1.000000</td>\n",
              "      <td>1.000000</td>\n",
              "      <td>1.000000</td>\n",
              "      <td>1.000000</td>\n",
              "      <td>1.000000</td>\n",
              "      <td>1.00000</td>\n",
              "      <td>1.000000</td>\n",
              "      <td>1.000000</td>\n",
              "      <td>1.000000</td>\n",
              "      <td>1.000000</td>\n",
              "      <td>1.000000</td>\n",
              "      <td>1.000000</td>\n",
              "      <td>1.000000</td>\n",
              "      <td>1.000000</td>\n",
              "      <td>1.000000</td>\n",
              "      <td>1.000000</td>\n",
              "      <td>1.000000</td>\n",
              "      <td>1.000000</td>\n",
              "      <td>1.000000</td>\n",
              "      <td>...</td>\n",
              "      <td>1.000000</td>\n",
              "      <td>1.000000</td>\n",
              "      <td>1.000000</td>\n",
              "      <td>1.000000</td>\n",
              "      <td>1.000000</td>\n",
              "      <td>1.000000</td>\n",
              "      <td>1.000000</td>\n",
              "      <td>1.000000</td>\n",
              "      <td>1.000000</td>\n",
              "      <td>1.000000</td>\n",
              "      <td>1.000000</td>\n",
              "      <td>1.000000</td>\n",
              "      <td>1.000000</td>\n",
              "      <td>1.000000</td>\n",
              "      <td>1.000000</td>\n",
              "      <td>1.000000</td>\n",
              "      <td>0.000000</td>\n",
              "      <td>0.000000</td>\n",
              "      <td>0.000000</td>\n",
              "      <td>0.000000</td>\n",
              "      <td>0.000000</td>\n",
              "      <td>0.000000</td>\n",
              "      <td>1.000000</td>\n",
              "      <td>1.000000</td>\n",
              "      <td>0.000000</td>\n",
              "      <td>0.000000</td>\n",
              "      <td>0.000000</td>\n",
              "      <td>0.000000</td>\n",
              "      <td>1.000000</td>\n",
              "      <td>1.000000</td>\n",
              "      <td>1.000000</td>\n",
              "      <td>1.000000</td>\n",
              "      <td>1.000000</td>\n",
              "      <td>0.000000</td>\n",
              "      <td>0.000000</td>\n",
              "      <td>0.000000</td>\n",
              "      <td>1.000000</td>\n",
              "      <td>1.000000</td>\n",
              "      <td>6.423051</td>\n",
              "      <td>0.031732</td>\n",
              "    </tr>\n",
              "    <tr>\n",
              "      <th>25%</th>\n",
              "      <td>20210326.0</td>\n",
              "      <td>9587.000000</td>\n",
              "      <td>290.000000</td>\n",
              "      <td>2.000000</td>\n",
              "      <td>2.000000</td>\n",
              "      <td>2.000000</td>\n",
              "      <td>1.000000</td>\n",
              "      <td>1.000000</td>\n",
              "      <td>1.000000</td>\n",
              "      <td>1963.000000</td>\n",
              "      <td>1.000000</td>\n",
              "      <td>2.000000</td>\n",
              "      <td>1.000000</td>\n",
              "      <td>2.000000</td>\n",
              "      <td>1.0</td>\n",
              "      <td>3.000000</td>\n",
              "      <td>3.000000</td>\n",
              "      <td>3.000000</td>\n",
              "      <td>3.000000</td>\n",
              "      <td>3.000000</td>\n",
              "      <td>3.000000</td>\n",
              "      <td>3.000000</td>\n",
              "      <td>3.000000</td>\n",
              "      <td>3.000000</td>\n",
              "      <td>3.000000</td>\n",
              "      <td>3.000000</td>\n",
              "      <td>3.00000</td>\n",
              "      <td>3.000000</td>\n",
              "      <td>3.000000</td>\n",
              "      <td>3.000000</td>\n",
              "      <td>2.000000</td>\n",
              "      <td>2.000000</td>\n",
              "      <td>1.000000</td>\n",
              "      <td>2.000000</td>\n",
              "      <td>4.000000</td>\n",
              "      <td>4.000000</td>\n",
              "      <td>3.000000</td>\n",
              "      <td>3.000000</td>\n",
              "      <td>4.000000</td>\n",
              "      <td>3.000000</td>\n",
              "      <td>...</td>\n",
              "      <td>1.000000</td>\n",
              "      <td>1.000000</td>\n",
              "      <td>1.000000</td>\n",
              "      <td>2.000000</td>\n",
              "      <td>2.000000</td>\n",
              "      <td>2.000000</td>\n",
              "      <td>2.000000</td>\n",
              "      <td>3.000000</td>\n",
              "      <td>3.000000</td>\n",
              "      <td>2.000000</td>\n",
              "      <td>3.000000</td>\n",
              "      <td>3.000000</td>\n",
              "      <td>2.000000</td>\n",
              "      <td>2.000000</td>\n",
              "      <td>2.000000</td>\n",
              "      <td>2.000000</td>\n",
              "      <td>6.000000</td>\n",
              "      <td>5.000000</td>\n",
              "      <td>6.000000</td>\n",
              "      <td>6.000000</td>\n",
              "      <td>5.000000</td>\n",
              "      <td>5.000000</td>\n",
              "      <td>4.000000</td>\n",
              "      <td>1.000000</td>\n",
              "      <td>20.000000</td>\n",
              "      <td>0.000000</td>\n",
              "      <td>3.000000</td>\n",
              "      <td>0.000000</td>\n",
              "      <td>3.000000</td>\n",
              "      <td>1.000000</td>\n",
              "      <td>1.000000</td>\n",
              "      <td>1.000000</td>\n",
              "      <td>40.000000</td>\n",
              "      <td>0.000000</td>\n",
              "      <td>4.000000</td>\n",
              "      <td>0.000000</td>\n",
              "      <td>3.000000</td>\n",
              "      <td>5.000000</td>\n",
              "      <td>95.726235</td>\n",
              "      <td>0.472920</td>\n",
              "    </tr>\n",
              "    <tr>\n",
              "      <th>50%</th>\n",
              "      <td>20210326.0</td>\n",
              "      <td>19407.000000</td>\n",
              "      <td>440.000000</td>\n",
              "      <td>3.000000</td>\n",
              "      <td>2.000000</td>\n",
              "      <td>2.000000</td>\n",
              "      <td>1.000000</td>\n",
              "      <td>2.000000</td>\n",
              "      <td>2.000000</td>\n",
              "      <td>1975.000000</td>\n",
              "      <td>1.000000</td>\n",
              "      <td>6.000000</td>\n",
              "      <td>1.000000</td>\n",
              "      <td>2.000000</td>\n",
              "      <td>1.0</td>\n",
              "      <td>4.000000</td>\n",
              "      <td>3.000000</td>\n",
              "      <td>3.000000</td>\n",
              "      <td>4.000000</td>\n",
              "      <td>4.000000</td>\n",
              "      <td>4.000000</td>\n",
              "      <td>4.000000</td>\n",
              "      <td>4.000000</td>\n",
              "      <td>4.000000</td>\n",
              "      <td>4.000000</td>\n",
              "      <td>3.000000</td>\n",
              "      <td>4.00000</td>\n",
              "      <td>4.000000</td>\n",
              "      <td>4.000000</td>\n",
              "      <td>3.000000</td>\n",
              "      <td>3.000000</td>\n",
              "      <td>3.000000</td>\n",
              "      <td>2.000000</td>\n",
              "      <td>3.000000</td>\n",
              "      <td>4.000000</td>\n",
              "      <td>6.000000</td>\n",
              "      <td>4.000000</td>\n",
              "      <td>3.000000</td>\n",
              "      <td>4.000000</td>\n",
              "      <td>3.000000</td>\n",
              "      <td>...</td>\n",
              "      <td>2.000000</td>\n",
              "      <td>2.000000</td>\n",
              "      <td>2.000000</td>\n",
              "      <td>2.000000</td>\n",
              "      <td>2.000000</td>\n",
              "      <td>2.000000</td>\n",
              "      <td>2.000000</td>\n",
              "      <td>4.000000</td>\n",
              "      <td>3.000000</td>\n",
              "      <td>3.000000</td>\n",
              "      <td>4.000000</td>\n",
              "      <td>3.000000</td>\n",
              "      <td>3.000000</td>\n",
              "      <td>3.000000</td>\n",
              "      <td>3.000000</td>\n",
              "      <td>3.000000</td>\n",
              "      <td>7.000000</td>\n",
              "      <td>6.000000</td>\n",
              "      <td>7.000000</td>\n",
              "      <td>7.000000</td>\n",
              "      <td>7.000000</td>\n",
              "      <td>7.000000</td>\n",
              "      <td>6.000000</td>\n",
              "      <td>1.000000</td>\n",
              "      <td>30.000000</td>\n",
              "      <td>0.000000</td>\n",
              "      <td>5.000000</td>\n",
              "      <td>0.000000</td>\n",
              "      <td>4.000000</td>\n",
              "      <td>1.000000</td>\n",
              "      <td>1.000000</td>\n",
              "      <td>1.000000</td>\n",
              "      <td>40.000000</td>\n",
              "      <td>0.000000</td>\n",
              "      <td>9.000000</td>\n",
              "      <td>0.000000</td>\n",
              "      <td>3.000000</td>\n",
              "      <td>7.000000</td>\n",
              "      <td>142.582438</td>\n",
              "      <td>0.704406</td>\n",
              "    </tr>\n",
              "    <tr>\n",
              "      <th>75%</th>\n",
              "      <td>20210326.0</td>\n",
              "      <td>62483.000000</td>\n",
              "      <td>590.000000</td>\n",
              "      <td>4.000000</td>\n",
              "      <td>3.000000</td>\n",
              "      <td>3.000000</td>\n",
              "      <td>2.000000</td>\n",
              "      <td>2.000000</td>\n",
              "      <td>2.000000</td>\n",
              "      <td>1985.000000</td>\n",
              "      <td>2.000000</td>\n",
              "      <td>6.000000</td>\n",
              "      <td>1.000000</td>\n",
              "      <td>2.000000</td>\n",
              "      <td>1.0</td>\n",
              "      <td>4.000000</td>\n",
              "      <td>4.000000</td>\n",
              "      <td>4.000000</td>\n",
              "      <td>4.000000</td>\n",
              "      <td>4.000000</td>\n",
              "      <td>5.000000</td>\n",
              "      <td>4.000000</td>\n",
              "      <td>5.000000</td>\n",
              "      <td>4.000000</td>\n",
              "      <td>4.000000</td>\n",
              "      <td>4.000000</td>\n",
              "      <td>4.00000</td>\n",
              "      <td>4.000000</td>\n",
              "      <td>4.000000</td>\n",
              "      <td>4.000000</td>\n",
              "      <td>3.000000</td>\n",
              "      <td>3.000000</td>\n",
              "      <td>3.000000</td>\n",
              "      <td>4.000000</td>\n",
              "      <td>5.000000</td>\n",
              "      <td>6.000000</td>\n",
              "      <td>4.000000</td>\n",
              "      <td>4.000000</td>\n",
              "      <td>5.000000</td>\n",
              "      <td>4.000000</td>\n",
              "      <td>...</td>\n",
              "      <td>2.000000</td>\n",
              "      <td>2.000000</td>\n",
              "      <td>2.000000</td>\n",
              "      <td>2.000000</td>\n",
              "      <td>2.000000</td>\n",
              "      <td>2.000000</td>\n",
              "      <td>2.000000</td>\n",
              "      <td>4.000000</td>\n",
              "      <td>4.000000</td>\n",
              "      <td>4.000000</td>\n",
              "      <td>4.000000</td>\n",
              "      <td>4.000000</td>\n",
              "      <td>3.000000</td>\n",
              "      <td>3.000000</td>\n",
              "      <td>3.000000</td>\n",
              "      <td>3.000000</td>\n",
              "      <td>8.000000</td>\n",
              "      <td>8.000000</td>\n",
              "      <td>8.000000</td>\n",
              "      <td>8.000000</td>\n",
              "      <td>8.000000</td>\n",
              "      <td>8.000000</td>\n",
              "      <td>6.000000</td>\n",
              "      <td>1.000000</td>\n",
              "      <td>42.000000</td>\n",
              "      <td>0.000000</td>\n",
              "      <td>10.000000</td>\n",
              "      <td>0.000000</td>\n",
              "      <td>10.000000</td>\n",
              "      <td>2.000000</td>\n",
              "      <td>1.000000</td>\n",
              "      <td>2.000000</td>\n",
              "      <td>48.000000</td>\n",
              "      <td>0.000000</td>\n",
              "      <td>15.000000</td>\n",
              "      <td>0.000000</td>\n",
              "      <td>4.000000</td>\n",
              "      <td>9.000000</td>\n",
              "      <td>228.495151</td>\n",
              "      <td>1.128844</td>\n",
              "    </tr>\n",
              "    <tr>\n",
              "      <th>max</th>\n",
              "      <td>20210326.0</td>\n",
              "      <td>97924.000000</td>\n",
              "      <td>740.000000</td>\n",
              "      <td>8.000000</td>\n",
              "      <td>7.000000</td>\n",
              "      <td>5.000000</td>\n",
              "      <td>6.000000</td>\n",
              "      <td>9.000000</td>\n",
              "      <td>2.000000</td>\n",
              "      <td>2005.000000</td>\n",
              "      <td>6.000000</td>\n",
              "      <td>6.000000</td>\n",
              "      <td>2.000000</td>\n",
              "      <td>2.000000</td>\n",
              "      <td>1.0</td>\n",
              "      <td>5.000000</td>\n",
              "      <td>5.000000</td>\n",
              "      <td>5.000000</td>\n",
              "      <td>5.000000</td>\n",
              "      <td>5.000000</td>\n",
              "      <td>5.000000</td>\n",
              "      <td>5.000000</td>\n",
              "      <td>5.000000</td>\n",
              "      <td>5.000000</td>\n",
              "      <td>5.000000</td>\n",
              "      <td>5.000000</td>\n",
              "      <td>5.00000</td>\n",
              "      <td>5.000000</td>\n",
              "      <td>5.000000</td>\n",
              "      <td>5.000000</td>\n",
              "      <td>3.000000</td>\n",
              "      <td>3.000000</td>\n",
              "      <td>3.000000</td>\n",
              "      <td>8.000000</td>\n",
              "      <td>7.000000</td>\n",
              "      <td>8.000000</td>\n",
              "      <td>5.000000</td>\n",
              "      <td>5.000000</td>\n",
              "      <td>5.000000</td>\n",
              "      <td>5.000000</td>\n",
              "      <td>...</td>\n",
              "      <td>2.000000</td>\n",
              "      <td>2.000000</td>\n",
              "      <td>2.000000</td>\n",
              "      <td>2.000000</td>\n",
              "      <td>2.000000</td>\n",
              "      <td>2.000000</td>\n",
              "      <td>2.000000</td>\n",
              "      <td>5.000000</td>\n",
              "      <td>5.000000</td>\n",
              "      <td>5.000000</td>\n",
              "      <td>5.000000</td>\n",
              "      <td>4.000000</td>\n",
              "      <td>4.000000</td>\n",
              "      <td>4.000000</td>\n",
              "      <td>4.000000</td>\n",
              "      <td>4.000000</td>\n",
              "      <td>10.000000</td>\n",
              "      <td>10.000000</td>\n",
              "      <td>10.000000</td>\n",
              "      <td>10.000000</td>\n",
              "      <td>10.000000</td>\n",
              "      <td>10.000000</td>\n",
              "      <td>7.000000</td>\n",
              "      <td>5.000000</td>\n",
              "      <td>88.000000</td>\n",
              "      <td>10.000000</td>\n",
              "      <td>70.000000</td>\n",
              "      <td>11.000000</td>\n",
              "      <td>13.000000</td>\n",
              "      <td>7.000000</td>\n",
              "      <td>5.000000</td>\n",
              "      <td>29.000000</td>\n",
              "      <td>99.000000</td>\n",
              "      <td>99.000000</td>\n",
              "      <td>60.000000</td>\n",
              "      <td>11.000000</td>\n",
              "      <td>5.000000</td>\n",
              "      <td>19.000000</td>\n",
              "      <td>7421.204731</td>\n",
              "      <td>36.663293</td>\n",
              "    </tr>\n",
              "  </tbody>\n",
              "</table>\n",
              "<p>8 rows × 181 columns</p>\n",
              "</div>"
            ],
            "text/plain": [
              "             date            ID  ...          wtb1          wtb2\n",
              "count     40085.0  40085.000000  ...  40085.000000  40085.000000\n",
              "mean   20210326.0  37393.277386  ...    202.415118      1.000000\n",
              "std           0.0  30042.838627  ...    211.084633      1.042830\n",
              "min    20210326.0      2.000000  ...      6.423051      0.031732\n",
              "25%    20210326.0   9587.000000  ...     95.726235      0.472920\n",
              "50%    20210326.0  19407.000000  ...    142.582438      0.704406\n",
              "75%    20210326.0  62483.000000  ...    228.495151      1.128844\n",
              "max    20210326.0  97924.000000  ...   7421.204731     36.663293\n",
              "\n",
              "[8 rows x 181 columns]"
            ]
          },
          "metadata": {},
          "execution_count": 5
        }
      ]
    },
    {
      "cell_type": "markdown",
      "metadata": {
        "id": "0mF4dSchmKJW"
      },
      "source": [
        "#data featuring\n",
        "1. 문항 평균으로 합치기\n",
        "2. 따라오는 문항 처리 "
      ]
    },
    {
      "cell_type": "code",
      "metadata": {
        "id": "6boEWHuydokw"
      },
      "source": [
        "#categorizing \n",
        "#1) Eco 환경\n",
        "df['Eco_1'] = df[['AQ1A1', 'AQ1A2','AQ1A3','AQ1A4']].mean(axis = 1)\n",
        "df['Eco_2'] = df[['AQ2A1', 'AQ2A2', 'AQ2A3','AQ2A4', 'AQ2A5']].mean(axis = 1)\n",
        "df['Eco_3'] = df['AQ3']\n",
        "df['Eco_4'] = df['AQ4']"
      ],
      "execution_count": null,
      "outputs": []
    },
    {
      "cell_type": "code",
      "metadata": {
        "id": "KpTwFBMZfFgx"
      },
      "source": [
        "#2) life 주거와 생활\n",
        "df['life_5'] = df[['AQ5A1', 'AQ5A2','AQ5A3','AQ5A4']].mean(axis = 1)\n",
        "df['life_6_1'] = df['AQ6A1']\n",
        "condition = df['AQ6A1'] == 3\n",
        "df.loc[condition, 'life_6_1'] = df['AQ6B1'] + 2\n",
        "df['life_6_2'] = df['AQ6A2']\n",
        "condition2 = df['AQ6A2'] == 3\n",
        "df.loc[condition2, 'life_6_2'] = df['AQ6B2'] + 2\n",
        "df['life_6_3'] = df['AQ6A3']\n",
        "condition3 = df['AQ6A3'] == 3\n",
        "df.loc[condition3, 'life_6_3'] = df['AQ6B3'] + 2"
      ],
      "execution_count": null,
      "outputs": []
    },
    {
      "cell_type": "code",
      "metadata": {
        "id": "p5Q4WDm2RFC6"
      },
      "source": [
        "#3)Security 안전\n",
        "df['security_7'] = df[['AQ7A1', 'AQ7A2','AQ7A3', 'AQ7A4', 'AQ7A5', 'AQ7A6', 'AQ7A7', 'AQ7A8', 'AQ7A9', 'AQ7A10', 'AQ7A11', 'AQ7A12']].mean(axis = 1)"
      ],
      "execution_count": null,
      "outputs": []
    },
    {
      "cell_type": "code",
      "metadata": {
        "id": "r0yX02UzSGdL"
      },
      "source": [
        "#4) Transportation\n",
        "df['transportation_8'] = df[['AQ8A1', 'AQ8A2', 'AQ8A3']].mean(axis = 1)\n",
        "df['transportation_9'] = df[['AQ9A1', 'AQ9A2', 'AQ9A3']].mean(axis = 1)\n",
        "#문항10번은 통근시간으로 대체(minutes)\n",
        "df[['AQ10_3A1', 'AQ10_3A2']] = df[['AQ10_3A1', 'AQ10_3A2']].fillna(0)\n",
        "df['transportation_10'] = df['AQ10_3A1']  + (df['AQ10_3A2'] / 60)"
      ],
      "execution_count": null,
      "outputs": []
    },
    {
      "cell_type": "code",
      "metadata": {
        "id": "D_28NY1OV34t"
      },
      "source": [
        "#5) freetime\n",
        "df['freetime_11'] = df['AQ11']\n",
        "df['freetime_12_1'] = df[['AQ12A1', 'AQ12A2','AQ12A3','AQ12A4','AQ12A5','AQ12A6','AQ12A7', 'AQ12A8']].sum(axis = 1)\n",
        "df['freetime_12_2'] = df[['AQ12B1', 'AQ12B2', 'AQ12B3', 'AQ12B4', 'AQ12B5', 'AQ12B6', 'AQ12B7', 'AQ12B8']].sum(axis = 1)\n",
        "#현재여가1,2순위 평일\n",
        "df['freetime_13_1'] = df['AQ13_1A1']\n",
        "df['freetime_13_2'] = df['AQ13_1A2']\n",
        "#현재여가 1, 2 순위 주말\n",
        "df['freetime_13_3'] = df['AQ13_2A1']\n",
        "df['freetime_13_4'] = df['AQ13_2A2']\n",
        "#희망여가 삭제\n",
        "df['freetime_14'] = df['AQ14']\n",
        "df['freetime_15'] = df['AQ15']"
      ],
      "execution_count": null,
      "outputs": []
    },
    {
      "cell_type": "code",
      "metadata": {
        "id": "CpDgF4aPXMT2"
      },
      "source": [
        "#6)health / 16번 원인 삭제 \n",
        "df['health_16'] = df['AQ16']\n",
        "df['health_17'] = df['AQ17A1'] + (df['AQ17A2'] / 60)"
      ],
      "execution_count": null,
      "outputs": []
    },
    {
      "cell_type": "code",
      "metadata": {
        "id": "vxeiSRQZXMZ8"
      },
      "source": [
        "#7)social\n",
        "condition4 = (df['AQ18'] == 1)\n",
        "df['social_18'] = 2\n",
        "df.loc[condition4, 'social_18'] = df[['AQ18_1A1',\t'AQ18_1A2',\t'AQ18_1A3',\t'AQ18_1A4',\t'AQ18_1A5',\t'AQ18_1A6',\t'AQ18_1A7']].fillna(0).sum(axis = 1)\n",
        "df['social_19'] = 0\n",
        "condition5 = df['AQ19A1'] != 8\n",
        "df.loc[condition5, 'social_19'] = 1"
      ],
      "execution_count": null,
      "outputs": []
    },
    {
      "cell_type": "code",
      "metadata": {
        "id": "Yh4k4636c-8a"
      },
      "source": [
        "#8)retirement- 노후 생활자금 '방법' 삭제\n",
        "df['retirement_20'] = df['AQ20']\n",
        "df['retirement_21'] = df['AQ21']\n",
        "df['retirement_22'] = df['AQ22']"
      ],
      "execution_count": null,
      "outputs": []
    },
    {
      "cell_type": "code",
      "metadata": {
        "id": "Obh-Lk36XMRh"
      },
      "source": [
        "#9)integration (도움 받을 사람 있다/없다)\n",
        "df['integration_23'] = df['AQ23']\n",
        "#가족친구이웃\n",
        "df['integration_24_1'] = df[['AQ24A1',\t'AQ24A2',\t'AQ24A3']].mean(axis = 1)\n",
        "#처음만난낯선사람 국내거주외국인 공공기관\n",
        "df['integration_24_2'] = df[['AQ24A4',\t'AQ24A5',\t'AQ24A6']].mean(axis = 1)\n",
        "df['integration_25'] = df['AQ25']\n",
        "df['integration_26'] = df['AQ26']\n",
        "df['integration_27_1'] = df['AQ27A1']\n",
        "df['integration_27_2'] = df['AQ27A2']\n",
        "df['integration_28'] = df[['AQ28A1',\t'AQ28A2',\t'AQ28A3',\t'AQ28A4',\t'AQ28A5',\t'AQ28B1',\t'AQ28B2',\t'AQ28B3',\t'AQ28B4',\t'AQ28B5',\t'AQ28C1',\t'AQ28C2',\t'AQ28C3',\t'AQ28C4',\t'AQ28C5']].mean(axis = 1)\n",
        "df['integration_29'] = df[['AQ29A1',\t'AQ29A2',\t'AQ29A3',\t'AQ29A4']].mean(axis = 1)\n",
        "df['integration_30'] = df[['AQ30A1',\t'AQ30A2',\t'AQ30A3',\t'AQ30A4',\t'AQ30A5' ]].mean(axis = 1)\n"
      ],
      "execution_count": null,
      "outputs": []
    },
    {
      "cell_type": "code",
      "metadata": {
        "id": "m1VGivoJmbxz"
      },
      "source": [
        "df['SQ1_3'] = 2021 - df['SQ1_3']\n",
        "df.rename(columns = {'SQ1_3' : 'Age', 'SQ1_2' : 'gender', 'SQ1_4' : 'marriage', 'SQ1_5' : 'religion','SQ1_6' : 'Nationality', 'SQ1_7' : 'Disability'}, inplace = True)"
      ],
      "execution_count": null,
      "outputs": []
    },
    {
      "cell_type": "code",
      "metadata": {
        "id": "vzE37nEso_5k"
      },
      "source": [
        "df['living'] = df['ADQ2A_1'] + (df['ADQ2A_2'] / 60)"
      ],
      "execution_count": null,
      "outputs": []
    },
    {
      "cell_type": "code",
      "metadata": {
        "id": "bg1mbLuUc_EV"
      },
      "source": [
        "df['happiness'] = df[['AQ31A1',\t'AQ31A2',\t'AQ31A3',\t'AQ31A4',\t'AQ31A5',\t'APQ1A5']].mean(axis = 1)"
      ],
      "execution_count": null,
      "outputs": []
    },
    {
      "cell_type": "code",
      "metadata": {
        "id": "VPUteKVTpoHQ"
      },
      "source": [
        "#drop feature date(자료공개일), ID(가구주-가구원 수), NUM_1(전체가구원수), FAM15(만15세이상 가구원수), SQ1_8A(면접여부)\n",
        "df.drop(['date','ID', 'GU','NUM_1','FAM15','SQ1_8A'], axis = 1, inplace = True)"
      ],
      "execution_count": null,
      "outputs": []
    },
    {
      "cell_type": "code",
      "metadata": {
        "id": "cRq0NtEfj_6G"
      },
      "source": [
        "df.drop(['AQ1A1', 'AQ1A2','AQ1A3','AQ1A4','AQ2A1', 'AQ2A2', 'AQ2A3','AQ2A4', 'AQ2A5','AQ3','AQ4',\n",
        "'AQ5A1', 'AQ5A2','AQ5A3', 'AQ5A4', 'AQ6A1', 'AQ6A2', 'AQ6A3', 'AQ6B1', 'AQ6B2', 'AQ6B3',\n",
        "'AQ7A1', 'AQ7A2','AQ7A3', 'AQ7A4', 'AQ7A5', 'AQ7A6', 'AQ7A7', 'AQ7A8', 'AQ7A9', 'AQ7A10', 'AQ7A11', 'AQ7A12',\n",
        "'AQ8A1', 'AQ8A2', 'AQ8A3','AQ9A1', 'AQ9A2', 'AQ9A3','AQ10', 'AQ10_1', 'AQ10_1A', 'AQ10_2',\t'AQ10_3A1'\t,'AQ10_3A2',\n",
        "'AQ10_4', 'AQ11', 'AQ12A1', 'AQ12A2','AQ12A3','AQ12A4','AQ12A5','AQ12A6','AQ12A7', 'AQ12A8','AQ12B1', 'AQ12B2', 'AQ12B3', 'AQ12B4', 'AQ12B5', 'AQ12B6', 'AQ12B7', 'AQ12B8',\n",
        "'AQ13_1A1','AQ13_1A2',\t'AQ13_2A1',\t'AQ13_2A2',\t'AQ13_1B1',\t'AQ13_1B2',\t'AQ13_2B1',\t'AQ13_2B2','AQ14', 'AQ15',\n",
        "'AQ16','AQ16_1A1',\t'AQ16_1A2',\t'AQ17A1',\t'AQ17A2',\n",
        "'AQ18', 'AQ18_1A1','AQ18_1A2',\t'AQ18_1A3',\t'AQ18_1A4',\t'AQ18_1A5',\t'AQ18_1A6',\t'AQ18_1A7',\t'AQ19A1'\t,'AQ19A2',\t'AQ19A3',\t'AQ19A4',\t'AQ19A5',\t'AQ19A6',\t'AQ19A7',\n",
        "'AQ20','AQ20_1A1',\t'AQ20_1A2',\t'AQ20_1A3',\t'AQ20_1A4',\t'AQ20_1A5',\t'AQ20_1A6',\t'AQ21',\t'AQ22',\t'AQ22A',\n",
        "'AQ23', 'AQ24A1',\t'AQ24A2',\t'AQ24A3', 'AQ24A4',\t'AQ24A5',\t'AQ24A6',\n",
        "'AQ23A',\t'AQ23_1A1',\t'AQ23_1A2',\t'AQ23_1A3',\t'AQ25',\t'AQ26',\t'AQ27A1',\t'AQ27A2',\t'AQ28A1',\t'AQ28A2',\t'AQ28A3',\t'AQ28A4',\t'AQ28A5',\t'AQ28B1',\t'AQ28B2',\t'AQ28B3',\t'AQ28B4',\t'AQ28B5',\t'AQ28C1',\t'AQ28C2',\t'AQ28C3',\t'AQ28C4',\t'AQ28C5',\t'AQ29A1',\t'AQ29A2',\t'AQ29A3',\t'AQ29A4',\n",
        "'AQ31A1',\t'AQ31A2',\t'AQ31A3',\t'AQ31A4',\t'AQ31A5',\t'APQ1A5',\n",
        "'SQ1_1','AQ30A1',\t'AQ30A2',\t'AQ30A3',\t'AQ30A4',\t'AQ30A5',\t'ADQ1',\t'ADQ1A',\t'ADQ2A_1',\t'ADQ2A_2',\t'ADQ2B_1',\t'ADQ2B_2',\t'ADQ3',\t'ADQ3_1',\t'ADQ3_1_1A',\t'ADQ3_1_1B',\t'ADQ3_2A1',\t'ADQ3_2A2',\t'ADQ3_3A1',\t'ADQ3_3A2',\t'ADQ3_4',\t'ADQ3_5',\t'wtb1',\t'wtb2'\n",
        "\n",
        "], axis = 1 , inplace = True)\n",
        "\n",
        "\n"
      ],
      "execution_count": null,
      "outputs": []
    },
    {
      "cell_type": "code",
      "metadata": {
        "colab": {
          "base_uri": "https://localhost:8080/"
        },
        "id": "zB2522Zvxhtt",
        "outputId": "4649680b-f2cc-48c5-ddd4-a599d8b713df"
      },
      "source": [
        "df.isnull().sum()"
      ],
      "execution_count": null,
      "outputs": [
        {
          "output_type": "execute_result",
          "data": {
            "text/plain": [
              "HOUSE                    0\n",
              "LIFE                     0\n",
              "gender                   0\n",
              "Age                      0\n",
              "marriage                 0\n",
              "religion                 0\n",
              "Nationality              0\n",
              "Disability               0\n",
              "Eco_1                    0\n",
              "Eco_2                    0\n",
              "Eco_3                    0\n",
              "Eco_4                    0\n",
              "life_5                   0\n",
              "life_6_1                 0\n",
              "life_6_2                 0\n",
              "life_6_3                 0\n",
              "security_7               0\n",
              "transportation_8       173\n",
              "transportation_9         0\n",
              "transportation_10        0\n",
              "freetime_11              0\n",
              "freetime_12_1            0\n",
              "freetime_12_2            0\n",
              "freetime_13_1            0\n",
              "freetime_13_2        12888\n",
              "freetime_13_3            0\n",
              "freetime_13_4         8786\n",
              "freetime_14              0\n",
              "freetime_15              0\n",
              "health_16                0\n",
              "health_17                0\n",
              "social_18                0\n",
              "social_19                0\n",
              "retirement_20            0\n",
              "retirement_21            0\n",
              "retirement_22            0\n",
              "integration_23           0\n",
              "integration_24_1         0\n",
              "integration_24_2         0\n",
              "integration_25           0\n",
              "integration_26           0\n",
              "integration_27_1         0\n",
              "integration_27_2       102\n",
              "integration_28           0\n",
              "integration_29           0\n",
              "integration_30         217\n",
              "living                   0\n",
              "happiness                0\n",
              "dtype: int64"
            ]
          },
          "metadata": {},
          "execution_count": 20
        }
      ]
    },
    {
      "cell_type": "code",
      "metadata": {
        "id": "BSFg5FhiyPki"
      },
      "source": [
        "#여가 13-2, 13-4 2순위 선택 삭제 \n",
        "df.drop(['freetime_13_2', 'freetime_13_4'], axis = 1, inplace = True)"
      ],
      "execution_count": null,
      "outputs": []
    },
    {
      "cell_type": "code",
      "metadata": {
        "id": "xyNZVkkptYFZ"
      },
      "source": [
        "#여분의 df\n",
        "df_1 = df.copy()"
      ],
      "execution_count": null,
      "outputs": []
    },
    {
      "cell_type": "code",
      "metadata": {
        "id": "Vu3zK-Go3w37"
      },
      "source": [
        "df = round(df, 2)"
      ],
      "execution_count": null,
      "outputs": []
    },
    {
      "cell_type": "code",
      "metadata": {
        "colab": {
          "base_uri": "https://localhost:8080/"
        },
        "id": "0XIKVODWup5m",
        "outputId": "40a5678c-d492-416b-d63d-c5cbe3461c12"
      },
      "source": [
        "#baseline (regression)\n",
        "target = 'happiness'\n",
        "baseline = df[target].mean()\n",
        "features = [col for col in df.columns if col != target]\n",
        "baseline"
      ],
      "execution_count": null,
      "outputs": [
        {
          "output_type": "execute_result",
          "data": {
            "text/plain": [
              "6.596016465011949"
            ]
          },
          "metadata": {},
          "execution_count": 24
        }
      ]
    },
    {
      "cell_type": "markdown",
      "metadata": {
        "id": "0KUMwzyqurEr"
      },
      "source": [
        "# 모델 1) 선형회귀\n",
        "\n",
        "4) 머신러닝 방식 적용 및 교차검증\n",
        "데이터의 탐색과 전처리 작업이 끝났다면 모델링을 통해 베이스라인과의 성능 비교를 해봅니다.\n",
        "\n",
        "Linear / Tree-based / Ensemble 모델을 학습하세요. (다양하게 시도해보시는 걸 추천합니다.)\n",
        "\n",
        "평가지표를 계산 후 베이스라인과 비교해보세요.\n",
        "\n",
        "어느정도 성능이 나왔다면, 교차 검증 (이하 CV)을 통해서 일반화될 가능성이 있는지 확인해봅니다.\n",
        "\n",
        "모델 성능을 개선하기 위한 다양한 방법을 적용해보세요.\n",
        "\n",
        "Hyperparameter tuning, etc.\n",
        "최소 2개 이상의 모델을 만들어서 validation 점수를 보고하세요.\n",
        "\n",
        "최종 모델의 test 점수를 보고하세요.\n",
        "\n",
        "태스크를 수행한 후, 다음 질문에 대답할 수 있어야 합니다.\n",
        "1.모델을 학습한 후에 베이스라인보다 잘 나왔나요? 그렇지 않다면 그 이유는 무엇일까요?\n",
        "2.모델 성능 개선을 위해 어떤 방법을 적용했나요? 그 방법을 선택한 이유는 무엇인가요?\n",
        "3.최종 모델에 관해 설명하세요.\n"
      ]
    },
    {
      "cell_type": "code",
      "metadata": {
        "id": "b4HRgdq7nga4"
      },
      "source": [
        "#!pip install category_encoders"
      ],
      "execution_count": null,
      "outputs": []
    },
    {
      "cell_type": "code",
      "metadata": {
        "colab": {
          "base_uri": "https://localhost:8080/"
        },
        "id": "ySGtbOVPvJlh",
        "outputId": "07ab4f1f-3337-4409-8008-9d12ccf854c8"
      },
      "source": [
        "from category_encoders import TargetEncoder\n",
        "from sklearn.linear_model import LinearRegression\n",
        "from sklearn.pipeline import make_pipeline\n",
        "from sklearn.preprocessing import StandardScaler\n",
        "from sklearn.model_selection import train_test_split"
      ],
      "execution_count": null,
      "outputs": [
        {
          "output_type": "stream",
          "name": "stderr",
          "text": [
            "/usr/local/lib/python3.7/dist-packages/statsmodels/tools/_testing.py:19: FutureWarning: pandas.util.testing is deprecated. Use the functions in the public API at pandas.testing instead.\n",
            "  import pandas.util.testing as tm\n"
          ]
        }
      ]
    },
    {
      "cell_type": "code",
      "metadata": {
        "colab": {
          "base_uri": "https://localhost:8080/"
        },
        "id": "tQXQorg5ne5c",
        "outputId": "0b57657e-52ad-4e8a-fddd-1bc48a69469c"
      },
      "source": [
        "#train_test_set split\n",
        "\n",
        "train, test = train_test_split(df, test_size = 0.2, random_state = 2)\n",
        "train, val = train_test_split(train, test_size = 0.2, random_state = 2)\n",
        "\n",
        "X_train = train[features]\n",
        "y_train = train[target]\n",
        "X_val = val[features]\n",
        "y_val = val[target]\n",
        "\n",
        "X_test = test[features]\n",
        "y_test = test[target]\n",
        "\n",
        "X_train.shape ,  X_val.shape,  X_test.shape, y_test.shape"
      ],
      "execution_count": null,
      "outputs": [
        {
          "output_type": "execute_result",
          "data": {
            "text/plain": [
              "((25654, 45), (6414, 45), (8017, 45), (8017,))"
            ]
          },
          "metadata": {},
          "execution_count": 27
        }
      ]
    },
    {
      "cell_type": "code",
      "metadata": {
        "id": "XNxSjlU3p-KE"
      },
      "source": [
        "from category_encoders import OrdinalEncoder\n",
        "from sklearn.impute import SimpleImputer\n",
        "from sklearn.preprocessing import StandardScaler\n",
        "from sklearn.ensemble import RandomForestRegressor\n",
        "from sklearn.compose import TransformedTargetRegressor\n",
        "import seaborn as sns\n",
        "import matplotlib.pyplot as plt\n"
      ],
      "execution_count": null,
      "outputs": []
    },
    {
      "cell_type": "code",
      "metadata": {
        "colab": {
          "base_uri": "https://localhost:8080/",
          "height": 72
        },
        "id": "1p7XNHl3qcwA",
        "outputId": "94b4f31f-f840-4aac-dcba-1d15ec1f2baf"
      },
      "source": [
        "sns.displot(df[target])\n",
        "#negatively skewed / left-skewed"
      ],
      "execution_count": null,
      "outputs": [
        {
          "output_type": "execute_result",
          "data": {
            "text/plain": [
              "<seaborn.axisgrid.FacetGrid at 0x7f7fad547e90>"
            ]
          },
          "metadata": {},
          "execution_count": 29
        },
        {
          "output_type": "display_data",
          "data": {
            "image/png": "[encoded data removed]",
            "text/plain": [
              "<Figure size 360x360 with 1 Axes>"
            ]
          },
          "metadata": {
            "needs_background": "light"
          }
        }
      ]
    },
    {
      "cell_type": "code",
      "metadata": {
        "colab": {
          "base_uri": "https://localhost:8080/"
        },
        "id": "vrz9cpwlvyi1",
        "outputId": "3a8623d8-56db-446e-86f5-08c2da09f9ec"
      },
      "source": [
        "#일반적으로 skewness 값이 -2 ~ +2 치우침이 없다고 판단\n",
        "df[target].skew()"
      ],
      "execution_count": null,
      "outputs": [
        {
          "output_type": "execute_result",
          "data": {
            "text/plain": [
              "-0.8134991255111026"
            ]
          },
          "metadata": {},
          "execution_count": 30
        }
      ]
    },
    {
      "cell_type": "code",
      "metadata": {
        "id": "BDaGjsTY2t3g"
      },
      "source": [
        "#1) Linear Model \n",
        "\n"
      ],
      "execution_count": null,
      "outputs": []
    },
    {
      "cell_type": "code",
      "metadata": {
        "colab": {
          "base_uri": "https://localhost:8080/",
          "height": 132
        },
        "id": "OAWgZvifqNK-",
        "outputId": "1fa243e4-bd51-4f68-8c67-865967a0afe7"
      },
      "source": [
        "#logit 변환 하지 않음 \n",
        "#1) RandomForestRegressor\n",
        "\n",
        "pipe = make_pipeline(\n",
        "    OrdinalEncoder(), \n",
        "    SimpleImputer(),\n",
        "    StandardScaler(),\n",
        "    RandomForestRegressor(random_state=2)\n",
        ")\n",
        "\n",
        "\n",
        "pipe.fit(X_train, y_train)\n",
        "pipe.score(X_val, y_val) -----??? score ? \n"
      ],
      "execution_count": null,
      "outputs": [
        {
          "output_type": "error",
          "ename": "SyntaxError",
          "evalue": "ignored",
          "traceback": [
            "\u001b[0;36m  File \u001b[0;32m\"<ipython-input-32-154b7984a748>\"\u001b[0;36m, line \u001b[0;32m13\u001b[0m\n\u001b[0;31m    pipe.score(X_val, y_val) -----??? score ?\u001b[0m\n\u001b[0m                                  ^\u001b[0m\n\u001b[0;31mSyntaxError\u001b[0m\u001b[0;31m:\u001b[0m invalid syntax\n"
          ]
        }
      ]
    },
    {
      "cell_type": "code",
      "metadata": {
        "id": "tz5GHjbT0cs8"
      },
      "source": [
        ""
      ],
      "execution_count": null,
      "outputs": []
    }
  ]
}